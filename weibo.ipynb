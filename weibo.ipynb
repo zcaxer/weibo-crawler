{
 "nbformat": 4,
 "nbformat_minor": 2,
 "metadata": {
  "language_info": {
   "name": "python",
   "codemirror_mode": {
    "name": "ipython",
    "version": 3
   },
   "version": "3.7.5"
  },
  "orig_nbformat": 2,
  "file_extension": ".py",
  "mimetype": "text/x-python",
  "name": "python",
  "npconvert_exporter": "python",
  "pygments_lexer": "ipython3",
  "version": 3
 },
 "cells": [
  {
   "cell_type": "markdown",
   "execution_count": null,
   "metadata": {},
   "outputs": [],
   "source": [
    "# 微博爬虫\n",
    "\n",
    "## 1. 获取uid\n",
    "\n"
   ]
  },
  {
   "cell_type": "code",
   "execution_count": null,
   "metadata": {},
   "outputs": [],
   "source": []
  },
  {
   "cell_type": "markdown",
   "execution_count": null,
   "metadata": {},
   "outputs": [],
   "source": [
    "## 2. 爬取粉丝\n",
    "\n",
    "使用m.weibo.cn可以爬取大量粉丝，其api为    \n",
    "<code> \n",
    "url_base = 'https://m.weibo.cn/api/container/getIndex'  \n",
    "param = {'containerid': '231051_-_fans_-_%d' % id,\n",
    "             'type': 'all', 'since_id': since_id}\n",
    "             </code>  \n",
    "since_id 为粉丝展示页页码，从1开始"
   ]
  },
  {
   "cell_type": "code",
   "execution_count": 1,
   "metadata": {},
   "outputs": [
    {
     "name": "stdout",
     "output_type": "stream",
     "text": "https://m.weibo.cn/api/container/getIndex?containerid=231051_-_fans_-_3261134763&type=all&since_id=1\n"
    },
    {
     "data": {
      "text/plain": "<Response [200]>"
     },
     "execution_count": 1,
     "metadata": {},
     "output_type": "execute_result"
    }
   ],
   "source": [
    "import requests\n",
    "from bs4 import BeautifulSoup\n",
    "import json\n",
    "import webbrowser\n",
    "\n",
    "def get_followers(uid):\n",
    "    since_id=1\n",
    "    url_base = 'https://m.weibo.cn/api/container/getIndex'\n",
    "    param = {'containerid': '231051_-_fans_-_%d' % uid,\n",
    "             'type': 'all', 'since_id': since_id}\n",
    "    r = requests.get(url_base, param)\n",
    "    print(r.url)\n",
    "    return r\n",
    "    # webbrowser.open(r.url)\n",
    "\n",
    "get_followers(3261134763)\n"
   ]
  },
  {
   "cell_type": "code",
   "execution_count": null,
   "metadata": {},
   "outputs": [],
   "source": []
  }
 ]
}