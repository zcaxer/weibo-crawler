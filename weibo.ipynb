{
 "nbformat": 4,
 "nbformat_minor": 2,
 "metadata": {
  "language_info": {
   "name": "python",
   "codemirror_mode": {
    "name": "ipython",
    "version": 3
   },
   "version": "3.7.5"
  },
  "orig_nbformat": 2,
  "file_extension": ".py",
  "mimetype": "text/x-python",
  "name": "python",
  "npconvert_exporter": "python",
  "pygments_lexer": "ipython3",
  "version": 3
 },
 "cells": [
  {
   "cell_type": "markdown",
   "metadata": {},
   "outputs": [],
   "source": [
    "# 微博爬虫\n",
    "\n",
    "## 1. 获取基础信息\n",
    "\n"
   ]
  },
  {
   "cell_type": "code",
   "metadata": {},
   "outputs": [],
   "source": []
  },
  {
   "cell_type": "markdown",
   "metadata": {},
   "outputs": [],
   "source": [
    "## 2. 爬取粉丝列表\n",
    "\n",
    "使用m.weibo.cn可以爬取大量粉丝，其api为    \n",
    "<code> \n",
    "urlbase = 'https://m.weibo.cn/api/container/getIndex'  \n",
    "param = {'containerid': '231051_-_fans_-_%d' % id,\n",
    "             'type': 'all', 'since_id': since_id}\n",
    "             </code>  \n",
    "since_id 为粉丝展示页页码，从1开始"
   ]
  },
  {
   "cell_type": "code",
   "metadata": {},
   "outputs": [],
   "source": [
    "import requests\n",
    "from bs4 import BeautifulSoup\n",
    "import json\n",
    "import webbrowser\n",
    "\n",
    "\n",
    "def get_followers_page(uid, since_id, save=0):\n",
    "    url_base = 'https://m.weibo.cn/api/container/getIndex'\n",
    "    param = {'containerid': '231051_-_fans_-_%d' % uid,\n",
    "             'type': 'all', 'since_id': since_id}\n",
    "    r = requests.get(url_base, param).json()\n",
    "    if save != 0:\n",
    "        f = open(\"%d_followers_%d.json\" % (uid, since_id), 'w')\n",
    "        json.dump(r, f)\n",
    "        f.close()\n",
    "    return r\n",
    "\n",
    "\n",
    "def get_followers(uid):\n",
    "    since_id = 0\n",
    "    li = []\n",
    "    while 1:\n",
    "        since_id += 1\n",
    "        r = get_followers_page(uid, since_id, 1)\n",
    "        try:\n",
    "            j = r['data']['cards'][0]['card_group']\n",
    "        except:\n",
    "            break\n",
    "        print(since_id)\n",
    "        for i in j:\n",
    "            li.append(i['user']['id'])\n",
    "    print(len(li))\n",
    "    # print(r.url)\n",
    "    return li\n",
    "\n",
    "j = get_followers(6299499718)"
   ]
  },
  {
   "cell_type": "markdown",
   "metadata": {},
   "outputs": [],
   "source": [
    "## 3. 爬取关注人"
   ]
  }
 ]
}